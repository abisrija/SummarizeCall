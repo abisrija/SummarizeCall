{
  "nbformat": 4,
  "nbformat_minor": 0,
  "metadata": {
    "colab": {
      "provenance": []
    },
    "kernelspec": {
      "name": "python3",
      "display_name": "Python 3"
    },
    "language_info": {
      "name": "python"
    }
  },
  "cells": [
    {
      "cell_type": "code",
      "source": [
        "from transformers import pipeline\n",
        "summarizer=pipeline('summarization')\n",
        "import assemblyai as aai\n",
        "aai.settings.api_key = \"556611b392be4b36950845574e0db0b4\""
      ],
      "metadata": {
        "colab": {
          "base_uri": "https://localhost:8080/"
        },
        "id": "fTUOgggpFFoV",
        "outputId": "39d06865-3dd3-4b7e-e650-3688df90537e"
      },
      "execution_count": null,
      "outputs": [
        {
          "output_type": "stream",
          "name": "stderr",
          "text": [
            "No model was supplied, defaulted to sshleifer/distilbart-cnn-12-6 and revision a4f8f3e (https://huggingface.co/sshleifer/distilbart-cnn-12-6).\n",
            "Using a pipeline without specifying a model name and revision in production is not recommended.\n"
          ]
        }
      ]
    },
    {
      "cell_type": "code",
      "source": [
        "transcriber = aai.Transcriber()\n",
        "transcript = transcriber.transcribe(\"/content/editedaudio.wav\")\n",
        "text=transcript.text\n",
        "print(\"Audio to Text :\",text)"
      ],
      "metadata": {
        "colab": {
          "base_uri": "https://localhost:8080/"
        },
        "id": "1-bkrq34FPkj",
        "outputId": "74bb6aac-f67f-4468-fe74-28f81bdd9877"
      },
      "execution_count": null,
      "outputs": [
        {
          "output_type": "stream",
          "name": "stdout",
          "text": [
            "Audio to Text : Doctor. I've been diligently following the medication you prescribed, but I'm still experiencing persistent stomach pain. It's quite discomforting, and I'm unsure what else to do. By the way, I don't think we've properly introduced ourselves. I'm Sarah. I'm sorry to hear that, Sarah. I understand how frustrating that must be. I appreciate you sharing your concerns. I'm Dr. Smith. It's nice to meet you. Let's delve deeper into your situation and work together to find a solution. Thank you, Dr. Smith. It's good to know your name. Have you made any significant changes to your diet or lifestyle recently that might be contributing to the discomfort, dr. Smith? You're welcome, Sarah. It's essential for us to communicate openly. To answer your question, no, I haven't made any significant changes. But, Sarah, knowing about your symptoms worsening after eating certain foods is crucial. It might indicate a connection. Let's explore that further. I appreciate your concern, Dr. Smith. I will definitely keep a food diary to track my diet and the symptoms. By the way, Dr. Smith, is there anything else we can do in the meantime to alleviate the pain? You're doing the right thing by starting a food, Sarah. It will provide us with valuable insights. As for alleviating the pain, Sarah, I'll make adjustments to your medication to help ease your discomfort. Additionally, consider eating small.\n"
          ]
        }
      ]
    },
    {
      "cell_type": "code",
      "source": [
        "#Summarization\n",
        "s=summarizer(text,max_length=50,min_length=10,do_sample=False)\n",
        "print(\"Summarized text :\",s[0]['summary_text'])"
      ],
      "metadata": {
        "colab": {
          "base_uri": "https://localhost:8080/"
        },
        "id": "PHRZDjFeF-IW",
        "outputId": "03a3e57c-b1c3-490f-d3ef-83a79a259d4a"
      },
      "execution_count": null,
      "outputs": [
        {
          "output_type": "stream",
          "name": "stdout",
          "text": [
            "Summarized text :  Doctor. Smith: \"I'm sorry to hear that, Sarah. I understand how frustrating that must be\" Sarah: \"Knowing about your symptoms worsening after eating certain foods is crucial. It might indicate a connection. I will definitely keep\n"
          ]
        }
      ]
    },
    {
      "cell_type": "code",
      "source": [
        "#Accurate summary\n",
        "import nltk\n",
        "nltk.download('stopwords')"
      ],
      "metadata": {
        "colab": {
          "base_uri": "https://localhost:8080/"
        },
        "id": "-TSN6vK2GXpT",
        "outputId": "1e170c3e-a54a-4902-f3aa-8a56b99271a0"
      },
      "execution_count": null,
      "outputs": [
        {
          "output_type": "stream",
          "name": "stderr",
          "text": [
            "[nltk_data] Downloading package stopwords to /root/nltk_data...\n",
            "[nltk_data]   Package stopwords is already up-to-date!\n"
          ]
        },
        {
          "output_type": "execute_result",
          "data": {
            "text/plain": [
              "True"
            ]
          },
          "metadata": {},
          "execution_count": 81
        }
      ]
    },
    {
      "cell_type": "code",
      "source": [
        "from transformers import pipeline\n",
        "\n",
        "def perform_extractive_summarization(document):\n",
        "\n",
        "    summarizer = pipeline(\"summarization\")\n",
        "    summary_extractive = summarizer(document, max_length=100, min_length=30, do_sample=False)\n",
        "\n",
        "    return summary_extractive[0]['summary_text']\n",
        "summary_ex = perform_extractive_summarization(text)\n",
        "print(summary_ex)"
      ],
      "metadata": {
        "colab": {
          "base_uri": "https://localhost:8080/"
        },
        "id": "MUdUtaphGgDb",
        "outputId": "37e47700-9e50-4b45-ac9b-3f4822c688bf"
      },
      "execution_count": null,
      "outputs": [
        {
          "output_type": "stream",
          "name": "stderr",
          "text": [
            "No model was supplied, defaulted to sshleifer/distilbart-cnn-12-6 and revision a4f8f3e (https://huggingface.co/sshleifer/distilbart-cnn-12-6).\n",
            "Using a pipeline without specifying a model name and revision in production is not recommended.\n"
          ]
        },
        {
          "output_type": "stream",
          "name": "stdout",
          "text": [
            " Doctor. Smith: \"I'm sorry to hear that, Sarah. I understand how frustrating that must be\" Sarah: \"Knowing about your symptoms worsening after eating certain foods is crucial\" Dr. Smith will make adjustments to your medication to help ease your discomfort .\n"
          ]
        }
      ]
    },
    {
      "cell_type": "code",
      "source": [],
      "metadata": {
        "id": "hFqZVaJoGwi5"
      },
      "execution_count": null,
      "outputs": []
    },
    {
      "cell_type": "code",
      "source": [
        "def perform_abstractive_summarization(document):\n",
        "\n",
        "     summarizer_abstractive = pipeline(\"summarization\", model=\"t5-small\", tokenizer=\"t5-small\")\n",
        "\n",
        "     summary_abstractive = summarizer_abstractive(document, max_length=130, min_length=70, do_sample=True)\n",
        "\n",
        "     return summary_abstractive[0]['summary_text']\n",
        "\n",
        "\n",
        "summary_ab= perform_abstractive_summarization(text)\n",
        "summary_ab"
      ],
      "metadata": {
        "colab": {
          "base_uri": "https://localhost:8080/",
          "height": 87
        },
        "id": "hCifLyCqTN9K",
        "outputId": "c27adc4f-038d-430e-e3a5-a1bd0f5b760d"
      },
      "execution_count": null,
      "outputs": [
        {
          "output_type": "execute_result",
          "data": {
            "text/plain": [
              "\"you're welcome, Sarah. I appreciate you sharing your concerns . knowing about your symptoms worsening after eating certain foods is crucial . it might indicate a connection to the discomfort, dr. Smith. let's delve deeper into your situation and work together to find a solution . if you've been following the medication, you'll make adjustments to your medication to help ease the pain .\""
            ],
            "application/vnd.google.colaboratory.intrinsic+json": {
              "type": "string"
            }
          },
          "metadata": {},
          "execution_count": 83
        }
      ]
    },
    {
      "cell_type": "code",
      "source": [
        "s=summary_ex+summary_ab\n",
        "from hashlib import shake_128\n",
        "from collections import Counter\n",
        "import re\n",
        "from datetime import date\n",
        "\n",
        "today = date.today()\n",
        "print(\"date:\", today)\n",
        "\n",
        "def remov_duplicates(input):\n",
        "\n",
        "    input = input.split(\" \")\n",
        "\n",
        "    UniqW = Counter(input)\n",
        "\n",
        "    s1 = \" \".join(UniqW.keys())\n",
        "    return s1\n",
        "\n",
        "d=remov_duplicates(s)\n",
        "d"
      ],
      "metadata": {
        "colab": {
          "base_uri": "https://localhost:8080/",
          "height": 122
        },
        "id": "qmin-MYMHNcN",
        "outputId": "b64db6e3-e5f6-4225-80c8-b591154b46e2"
      },
      "execution_count": null,
      "outputs": [
        {
          "output_type": "stream",
          "name": "stdout",
          "text": [
            "date: 2023-07-31\n"
          ]
        },
        {
          "output_type": "execute_result",
          "data": {
            "text/plain": [
              "' Doctor. Smith: \"I\\'m sorry to hear that, Sarah. I understand how frustrating that must be\" Sarah: \"Knowing about your symptoms worsening after eating certain foods is crucial\" Dr. Smith will make adjustments medication help ease discomfort .you\\'re welcome, appreciate you sharing concerns . knowing crucial it might indicate a connection the discomfort, dr. Smith. let\\'s delve deeper into situation and work together find solution if you\\'ve been following medication, you\\'ll pain'"
            ],
            "application/vnd.google.colaboratory.intrinsic+json": {
              "type": "string"
            }
          },
          "metadata": {},
          "execution_count": 84
        }
      ]
    },
    {
      "cell_type": "code",
      "source": [
        "import re\n",
        "from datetime import date\n",
        "from pydub import AudioSegment\n",
        "\n",
        "today = date.today()\n",
        "date=\"Date: \"+str(today)\n",
        "print(\"date:\", today)\n",
        "\n",
        "def get_audio_length(file_path):\n",
        "    try:\n",
        "        audio = AudioSegment.from_file(file_path)\n",
        "        length_ms = len(audio)\n",
        "        length_seconds = length_ms / 1000\n",
        "        return length_seconds\n",
        "    except Exception as e:\n",
        "        print(f\"Error: {e}\")\n",
        "        return None\n",
        "\n",
        "file_path = \"/content/editedaudio.wav\"\n",
        "duration = get_audio_length(file_path)\n",
        "\n",
        "if duration is not None:\n",
        "    time=\"Duration of the audio file: \"+str(duration)+\" seconds\"\n",
        "    print(f\"Duration of the audio file : {duration:.2f} seconds\")\n",
        "\n",
        "A_to_T=\"AUDIO CONVERTED TEXT: \"+text\n",
        "print(\"Audio converted  text :\",text)\n",
        "S_T=\"SUMMARIZED TEXT: \"+d\n",
        "print(\"Summarized text :\",d)\n",
        "\n",
        "\n",
        "# Regular expression pattern to find prescription for indigestion tablets\n",
        "pattern = r\"(?i)\\bprescription\\b.*?\\bindigestion tablets\\b\"\n",
        "\n",
        "# Find the match in the text\n",
        "match = re.search(pattern,text)\n",
        "\n",
        "if match:\n",
        "    prescription_info = match.group()\n",
        "    P_I=\"Prescription Information: \"+prescription_info\n",
        "    print(\"Prescription Information :\",prescription_info)\n",
        "else:\n",
        "    P_I=\"Prescription for tablets not found.\"\n",
        "    print(\"Prescription for tablets not found.\")\n",
        "\n"
      ],
      "metadata": {
        "colab": {
          "base_uri": "https://localhost:8080/"
        },
        "id": "NqaATAu_HZPK",
        "outputId": "48682a2a-a638-4755-e056-930265fd8814"
      },
      "execution_count": null,
      "outputs": [
        {
          "output_type": "stream",
          "name": "stdout",
          "text": [
            "date: 2023-07-31\n",
            "Duration of the audio file : 97.92 seconds\n",
            "Audio converted  text : Doctor. I've been diligently following the medication you prescribed, but I'm still experiencing persistent stomach pain. It's quite discomforting, and I'm unsure what else to do. By the way, I don't think we've properly introduced ourselves. I'm Sarah. I'm sorry to hear that, Sarah. I understand how frustrating that must be. I appreciate you sharing your concerns. I'm Dr. Smith. It's nice to meet you. Let's delve deeper into your situation and work together to find a solution. Thank you, Dr. Smith. It's good to know your name. Have you made any significant changes to your diet or lifestyle recently that might be contributing to the discomfort, dr. Smith? You're welcome, Sarah. It's essential for us to communicate openly. To answer your question, no, I haven't made any significant changes. But, Sarah, knowing about your symptoms worsening after eating certain foods is crucial. It might indicate a connection. Let's explore that further. I appreciate your concern, Dr. Smith. I will definitely keep a food diary to track my diet and the symptoms. By the way, Dr. Smith, is there anything else we can do in the meantime to alleviate the pain? You're doing the right thing by starting a food, Sarah. It will provide us with valuable insights. As for alleviating the pain, Sarah, I'll make adjustments to your medication to help ease your discomfort. Additionally, consider eating small.\n",
            "Summarized text :  Doctor. Smith: \"I'm sorry to hear that, Sarah. I understand how frustrating that must be\" Sarah: \"Knowing about your symptoms worsening after eating certain foods is crucial\" Dr. Smith will make adjustments medication help ease discomfort .you're welcome, appreciate you sharing concerns . knowing crucial it might indicate a connection the discomfort, dr. Smith. let's delve deeper into situation and work together find solution if you've been following medication, you'll pain\n",
            "Prescription for indigestion tablets not found.\n"
          ]
        }
      ]
    },
    {
      "cell_type": "code",
      "source": [
        "import docx\n",
        "import zipfile\n",
        "\n",
        "def create_doc_from_text_array(text_array, output_file):\n",
        "    doc = docx.Document()\n",
        "\n",
        "    for text in text_array:\n",
        "        doc.add_paragraph(text)\n",
        "\n",
        "    doc.save(output_file)\n",
        "    print(f\"DOCX File Report named '{output_file}' created successfully.\")\n",
        "\n",
        "def create_zip_from_docx(docx_file, zip_file):\n",
        "    with zipfile.ZipFile(zip_file, 'w', zipfile.ZIP_DEFLATED) as zipf:\n",
        "        zipf.write(docx_file)\n",
        "\n",
        "    print(f\"ZIP File Report named '{zip_file}' created successfully.\")\n",
        "\n",
        "\n",
        "output_texts = [date,time,A_to_T,S_T,P_I]\n",
        "\n",
        "# Output DOCX file path\n",
        "output_docx_file = \"REPORT1.docx\"\n",
        "\n",
        "create_doc_from_text_array(output_texts, output_docx_file)\n",
        "\n",
        "# Output ZIP file path\n",
        "output_zip_file = \"REPORT_ZIP.zip\"\n",
        "\n",
        "create_zip_from_docx(output_docx_file, output_zip_file)\n"
      ],
      "metadata": {
        "colab": {
          "base_uri": "https://localhost:8080/"
        },
        "id": "XxXf_ZpSOoIh",
        "outputId": "93f35b22-6200-45cf-a7ea-ee99c541ac47"
      },
      "execution_count": null,
      "outputs": [
        {
          "output_type": "stream",
          "name": "stdout",
          "text": [
            "DOCX File Report named 'REPORT1.docx' created successfully.\n",
            "ZIP File Report named 'REPORT_ZIP.zip' created successfully.\n"
          ]
        }
      ]
    },
    {
      "cell_type": "code",
      "source": [],
      "metadata": {
        "id": "g17xyuLYZGvP"
      },
      "execution_count": null,
      "outputs": []
    }
  ]
}